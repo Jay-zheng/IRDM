{
 "cells": [
  {
   "cell_type": "code",
   "execution_count": 40,
   "metadata": {
    "collapsed": true
   },
   "outputs": [],
   "source": [
    "import pandas as pd\n",
    "import numpy as np\n",
    "import Feature_Extraction_Functions as f"
   ]
  },
  {
   "cell_type": "code",
   "execution_count": 3,
   "metadata": {
    "collapsed": false
   },
   "outputs": [],
   "source": [
    "#attributes = pd.read_csv('attributes.csv')\n",
    "#product_descriptions = pd.read_csv('product_descriptions.csv')\n",
    "#train_original = pd.read_csv('train.csv', encoding=\"ISO-8859-1\")\n",
    "#test_original = pd.read_csv('test.csv', encoding=\"ISO-8859-1\")\n",
    "\n",
    "\n",
    "attributes = pd.read_csv('input_clean/attributes_clean.csv',encoding=\"ISO-8859-1\")\n",
    "product_descriptions = pd.read_csv('input_clean/product_descriptions_clean.csv')\n",
    "train_original = pd.read_csv('input_clean/train_clean.csv', encoding=\"ISO-8859-1\",index_col='id')\n",
    "test_original = pd.read_csv('input_clean/test_clean.csv', encoding=\"ISO-8859-1\",index_col='id')\n"
   ]
  },
  {
   "cell_type": "code",
   "execution_count": 25,
   "metadata": {
    "collapsed": false,
    "scrolled": true
   },
   "outputs": [],
   "source": [
    "attributes.product_uid = np.int64(attributes.product_uid)"
   ]
  },
  {
   "cell_type": "code",
   "execution_count": 26,
   "metadata": {
    "collapsed": false,
    "scrolled": false
   },
   "outputs": [],
   "source": [
    "all_data = train_original.append(test_original)\n",
    "all_data.merge(attributes,how='outer',on='product_uid')\n",
    "product_dataframe = all_data.merge(product_descriptions,how='left',on='product_uid')"
   ]
  },
  {
   "cell_type": "code",
   "execution_count": 36,
   "metadata": {
    "collapsed": false
   },
   "outputs": [],
   "source": [
    "train = train_original.merge(product_dataframe,how='outer',on='product_uid')\n",
    "test = test_original\n",
    "\n",
    "train = train.fillna('')\n",
    "test = test.fillna('')"
   ]
  },
  {
   "cell_type": "code",
   "execution_count": 41,
   "metadata": {
    "collapsed": true
   },
   "outputs": [
    {
     "name": "stdout",
     "output_type": "stream",
     "text": [
      "Loading search terms...\n",
      "Failed to load search terms...\n",
      "Retrieving search terms...\n",
      "Retrieving search terms from training data...\n",
      "Processed 10000 of 310046 instances...\n",
      "Processed 20000 of 310046 instances...\n",
      "Processed 30000 of 310046 instances...\n",
      "Processed 40000 of 310046 instances...\n",
      "Processed 50000 of 310046 instances...\n",
      "Processed 60000 of 310046 instances...\n",
      "Processed 70000 of 310046 instances...\n",
      "Processed 80000 of 310046 instances...\n",
      "Processed 90000 of 310046 instances...\n",
      "Processed 100000 of 310046 instances...\n",
      "Processed 110000 of 310046 instances...\n",
      "Processed 120000 of 310046 instances...\n",
      "Processed 130000 of 310046 instances...\n",
      "Processed 140000 of 310046 instances...\n",
      "Processed 150000 of 310046 instances...\n",
      "Processed 160000 of 310046 instances...\n",
      "Processed 170000 of 310046 instances...\n",
      "Processed 180000 of 310046 instances...\n",
      "Processed 190000 of 310046 instances...\n",
      "Processed 200000 of 310046 instances...\n",
      "Processed 210000 of 310046 instances...\n",
      "Processed 220000 of 310046 instances...\n",
      "Processed 230000 of 310046 instances...\n",
      "Processed 240000 of 310046 instances...\n",
      "Processed 250000 of 310046 instances...\n",
      "Processed 260000 of 310046 instances...\n",
      "Processed 270000 of 310046 instances...\n",
      "Processed 280000 of 310046 instances...\n",
      "Processed 290000 of 310046 instances...\n",
      "Processed 300000 of 310046 instances...\n",
      "Processed 310000 of 310046 instances...\n",
      "Retrieving search terms from testing data...\n"
     ]
    },
    {
     "ename": "IndexError",
     "evalue": "tuple index out of range",
     "output_type": "error",
     "traceback": [
      "\u001b[0;31m---------------------------------------------------------------------------\u001b[0m",
      "\u001b[0;31mFileNotFoundError\u001b[0m                         Traceback (most recent call last)",
      "\u001b[0;32m/Users/chenbo/Desktop/UCL/information retrieval/Kaggel/coursework/Feature Engineering/Feature_Extraction_Functions.py\u001b[0m in \u001b[0;36mload_search_terms\u001b[0;34m(train, test)\u001b[0m\n\u001b[1;32m    203\u001b[0m         \u001b[0mprint\u001b[0m\u001b[0;34m(\u001b[0m\u001b[0;34m'Loading search terms...'\u001b[0m\u001b[0;34m)\u001b[0m\u001b[0;34m\u001b[0m\u001b[0m\n\u001b[0;32m--> 204\u001b[0;31m         \u001b[0msearch_terms\u001b[0m \u001b[0;34m=\u001b[0m \u001b[0mload_obj\u001b[0m\u001b[0;34m(\u001b[0m\u001b[0;34m'input_clean/search_terms'\u001b[0m\u001b[0;34m)\u001b[0m\u001b[0;34m\u001b[0m\u001b[0m\n\u001b[0m\u001b[1;32m    205\u001b[0m     \u001b[0;32mexcept\u001b[0m\u001b[0;34m:\u001b[0m\u001b[0;34m\u001b[0m\u001b[0m\n",
      "\u001b[0;32m/Users/chenbo/Desktop/UCL/information retrieval/Kaggel/coursework/Feature Engineering/Feature_Extraction_Functions.py\u001b[0m in \u001b[0;36mload_obj\u001b[0;34m(name)\u001b[0m\n\u001b[1;32m     14\u001b[0m \u001b[0;32mdef\u001b[0m \u001b[0mload_obj\u001b[0m\u001b[0;34m(\u001b[0m\u001b[0mname\u001b[0m \u001b[0;34m=\u001b[0m \u001b[0;34m'object'\u001b[0m\u001b[0;34m)\u001b[0m\u001b[0;34m:\u001b[0m\u001b[0;34m\u001b[0m\u001b[0m\n\u001b[0;32m---> 15\u001b[0;31m     \u001b[0;32mwith\u001b[0m \u001b[0mopen\u001b[0m\u001b[0;34m(\u001b[0m\u001b[0mname\u001b[0m \u001b[0;34m+\u001b[0m \u001b[0;34m'.pkl'\u001b[0m\u001b[0;34m,\u001b[0m \u001b[0;34m'rb'\u001b[0m\u001b[0;34m)\u001b[0m \u001b[0;32mas\u001b[0m \u001b[0mf\u001b[0m\u001b[0;34m:\u001b[0m\u001b[0;34m\u001b[0m\u001b[0m\n\u001b[0m\u001b[1;32m     16\u001b[0m         \u001b[0;32mreturn\u001b[0m \u001b[0mpickle\u001b[0m\u001b[0;34m.\u001b[0m\u001b[0mload\u001b[0m\u001b[0;34m(\u001b[0m\u001b[0mf\u001b[0m\u001b[0;34m)\u001b[0m\u001b[0;34m\u001b[0m\u001b[0m\n",
      "\u001b[0;31mFileNotFoundError\u001b[0m: [Errno 2] No such file or directory: 'input_clean/search_terms.pkl'",
      "\nDuring handling of the above exception, another exception occurred:\n",
      "\u001b[0;31mIndexError\u001b[0m                                Traceback (most recent call last)",
      "\u001b[0;32m<ipython-input-41-932b2265ffa0>\u001b[0m in \u001b[0;36m<module>\u001b[0;34m()\u001b[0m\n\u001b[0;32m----> 1\u001b[0;31m \u001b[0msearch_terms\u001b[0m \u001b[0;34m=\u001b[0m \u001b[0mf\u001b[0m\u001b[0;34m.\u001b[0m\u001b[0mload_search_terms\u001b[0m\u001b[0;34m(\u001b[0m\u001b[0mtrain\u001b[0m\u001b[0;34m,\u001b[0m\u001b[0mtest\u001b[0m\u001b[0;34m)\u001b[0m\u001b[0;34m\u001b[0m\u001b[0m\n\u001b[0m\u001b[1;32m      2\u001b[0m \u001b[0mproduct_title_terms\u001b[0m \u001b[0;34m=\u001b[0m \u001b[0mf\u001b[0m\u001b[0;34m.\u001b[0m\u001b[0mload_terms\u001b[0m\u001b[0;34m(\u001b[0m\u001b[0mproduct_dataframe\u001b[0m\u001b[0;34m,\u001b[0m\u001b[0;34m'product_title'\u001b[0m\u001b[0;34m)\u001b[0m\u001b[0;34m\u001b[0m\u001b[0m\n\u001b[1;32m      3\u001b[0m \u001b[0mprod_descr_terms\u001b[0m \u001b[0;34m=\u001b[0m \u001b[0mf\u001b[0m\u001b[0;34m.\u001b[0m\u001b[0mload_terms\u001b[0m\u001b[0;34m(\u001b[0m\u001b[0mproduct_dataframe\u001b[0m\u001b[0;34m,\u001b[0m\u001b[0;34m'prod_descr'\u001b[0m\u001b[0;34m)\u001b[0m\u001b[0;34m\u001b[0m\u001b[0m\n\u001b[1;32m      4\u001b[0m \u001b[0mattr_names_terms\u001b[0m \u001b[0;34m=\u001b[0m \u001b[0mf\u001b[0m\u001b[0;34m.\u001b[0m\u001b[0mload_terms\u001b[0m\u001b[0;34m(\u001b[0m\u001b[0mproduct_dataframe\u001b[0m\u001b[0;34m,\u001b[0m\u001b[0;34m'attr_names'\u001b[0m\u001b[0;34m)\u001b[0m\u001b[0;34m\u001b[0m\u001b[0m\n\u001b[1;32m      5\u001b[0m \u001b[0mattr_values_terms\u001b[0m \u001b[0;34m=\u001b[0m \u001b[0mf\u001b[0m\u001b[0;34m.\u001b[0m\u001b[0mload_terms\u001b[0m\u001b[0;34m(\u001b[0m\u001b[0mproduct_dataframe\u001b[0m\u001b[0;34m,\u001b[0m\u001b[0;34m'attr_values'\u001b[0m\u001b[0;34m)\u001b[0m\u001b[0;34m\u001b[0m\u001b[0m\n",
      "\u001b[0;32m/Users/chenbo/Desktop/UCL/information retrieval/Kaggel/coursework/Feature Engineering/Feature_Extraction_Functions.py\u001b[0m in \u001b[0;36mload_search_terms\u001b[0;34m(train, test)\u001b[0m\n\u001b[1;32m    206\u001b[0m         \u001b[0mprint\u001b[0m\u001b[0;34m(\u001b[0m\u001b[0;34m'Failed to load search terms...'\u001b[0m\u001b[0;34m)\u001b[0m\u001b[0;34m\u001b[0m\u001b[0m\n\u001b[1;32m    207\u001b[0m         \u001b[0mprint\u001b[0m\u001b[0;34m(\u001b[0m\u001b[0;34m'Retrieving search terms...'\u001b[0m\u001b[0;34m)\u001b[0m\u001b[0;34m\u001b[0m\u001b[0m\n\u001b[0;32m--> 208\u001b[0;31m         \u001b[0msearch_terms\u001b[0m \u001b[0;34m=\u001b[0m \u001b[0mget_search_terms_set\u001b[0m\u001b[0;34m(\u001b[0m\u001b[0mtrain\u001b[0m\u001b[0;34m,\u001b[0m\u001b[0mtest\u001b[0m\u001b[0;34m)\u001b[0m\u001b[0;34m\u001b[0m\u001b[0m\n\u001b[0m\u001b[1;32m    209\u001b[0m         \u001b[0mprint\u001b[0m\u001b[0;34m(\u001b[0m\u001b[0;34m'Saving search terms to file...'\u001b[0m\u001b[0;34m)\u001b[0m\u001b[0;34m\u001b[0m\u001b[0m\n\u001b[1;32m    210\u001b[0m         \u001b[0msave_obj\u001b[0m\u001b[0;34m(\u001b[0m\u001b[0msearch_terms\u001b[0m\u001b[0;34m,\u001b[0m\u001b[0;34m'input_clean/search_terms'\u001b[0m\u001b[0;34m)\u001b[0m\u001b[0;34m\u001b[0m\u001b[0m\n",
      "\u001b[0;32m/Users/chenbo/Desktop/UCL/information retrieval/Kaggel/coursework/Feature Engineering/Feature_Extraction_Functions.py\u001b[0m in \u001b[0;36mget_search_terms_set\u001b[0;34m(train, test)\u001b[0m\n\u001b[1;32m     85\u001b[0m     \u001b[0;32mfor\u001b[0m \u001b[0mi\u001b[0m\u001b[0;34m,\u001b[0m\u001b[0mrow\u001b[0m \u001b[0;32min\u001b[0m \u001b[0menumerate\u001b[0m\u001b[0;34m(\u001b[0m\u001b[0mtest\u001b[0m\u001b[0;34m.\u001b[0m\u001b[0mitertuples\u001b[0m\u001b[0;34m(\u001b[0m\u001b[0;34m)\u001b[0m\u001b[0;34m)\u001b[0m\u001b[0;34m:\u001b[0m\u001b[0;34m\u001b[0m\u001b[0m\n\u001b[1;32m     86\u001b[0m         \u001b[0;31m#the search_term column is the third one in the test df\u001b[0m\u001b[0;34m\u001b[0m\u001b[0;34m\u001b[0m\u001b[0m\n\u001b[0;32m---> 87\u001b[0;31m         \u001b[0msearch_terms\u001b[0m \u001b[0;34m+=\u001b[0m \u001b[0mrow\u001b[0m\u001b[0;34m[\u001b[0m\u001b[0;36m3\u001b[0m\u001b[0;34m]\u001b[0m\u001b[0;34m.\u001b[0m\u001b[0msplit\u001b[0m\u001b[0;34m(\u001b[0m\u001b[0;34m)\u001b[0m\u001b[0;34m\u001b[0m\u001b[0m\n\u001b[0m\u001b[1;32m     88\u001b[0m         \u001b[0;32mif\u001b[0m \u001b[0;34m(\u001b[0m\u001b[0mi\u001b[0m\u001b[0;34m+\u001b[0m\u001b[0;36m1\u001b[0m\u001b[0;34m)\u001b[0m \u001b[0;34m%\u001b[0m \u001b[0;36m10000\u001b[0m \u001b[0;34m==\u001b[0m \u001b[0;36m0\u001b[0m\u001b[0;34m:\u001b[0m \u001b[0mprint\u001b[0m\u001b[0;34m(\u001b[0m\u001b[0;34m'Processed {} of {} instances...'\u001b[0m\u001b[0;34m.\u001b[0m\u001b[0mformat\u001b[0m\u001b[0;34m(\u001b[0m\u001b[0mi\u001b[0m\u001b[0;34m+\u001b[0m\u001b[0;36m1\u001b[0m\u001b[0;34m,\u001b[0m\u001b[0mnum_instances_test\u001b[0m\u001b[0;34m)\u001b[0m\u001b[0;34m)\u001b[0m\u001b[0;34m\u001b[0m\u001b[0m\n\u001b[1;32m     89\u001b[0m     \u001b[0;32mreturn\u001b[0m \u001b[0mset\u001b[0m\u001b[0;34m(\u001b[0m\u001b[0msearch_terms\u001b[0m\u001b[0;34m)\u001b[0m\u001b[0;34m\u001b[0m\u001b[0m\n",
      "\u001b[0;31mIndexError\u001b[0m: tuple index out of range"
     ]
    }
   ],
   "source": [
    "search_terms = f.load_search_terms(train,test)\n",
    "product_title_terms = f.load_terms(product_dataframe,'product_title')\n",
    "prod_descr_terms = f.load_terms(product_dataframe,'prod_descr')\n",
    "attr_names_terms = f.load_terms(product_dataframe,'attr_names')\n",
    "attr_values_terms = f.load_terms(product_dataframe,'attr_values')\n",
    "brand_name_terms = f.load_terms(product_dataframe,'brand_name')"
   ]
  },
  {
   "cell_type": "code",
   "execution_count": null,
   "metadata": {
    "collapsed": true
   },
   "outputs": [],
   "source": []
  }
 ],
 "metadata": {
  "kernelspec": {
   "display_name": "Python 3",
   "language": "python",
   "name": "python3"
  },
  "language_info": {
   "codemirror_mode": {
    "name": "ipython",
    "version": 3
   },
   "file_extension": ".py",
   "mimetype": "text/x-python",
   "name": "python",
   "nbconvert_exporter": "python",
   "pygments_lexer": "ipython3",
   "version": "3.6.0"
  }
 },
 "nbformat": 4,
 "nbformat_minor": 2
}
