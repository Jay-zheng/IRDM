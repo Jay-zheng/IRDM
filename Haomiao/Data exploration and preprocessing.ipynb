{
 "cells": [
  {
   "cell_type": "code",
   "execution_count": 2,
   "metadata": {},
   "outputs": [],
   "source": [
    "import warnings\n",
    "warnings.filterwarnings('ignore')\n",
    "import re\n",
    "import time\n",
    "import numpy as np\n",
    "import matplotlib.pyplot as plt\n",
    "import seaborn as sns\n",
    "%matplotlib inline\n",
    "import pandas as pd\n",
    "pd.options.display.max_columns = None\n",
    "pd.options.display.mpl_style = 'default'\n",
    "from nltk.tokenize import word_tokenize\n",
    "from until import *"
   ]
  },
  {
   "cell_type": "code",
   "execution_count": 3,
   "metadata": {
    "collapsed": true
   },
   "outputs": [],
   "source": [
    "df_train = pd.read_csv('/Users/Hermione/MasterUCL/Info retrieval and data mining/coursework/dataset/train.csv', encoding='ISO-8859-1')\n",
    "df_test = pd.read_csv('/Users/Hermione/MasterUCL/Info retrieval and data mining/coursework/dataset/test.csv', encoding='ISO-8859-1')\n",
    "df_desp = pd.read_csv('/Users/Hermione/MasterUCL/Info retrieval and data mining/coursework/dataset/product_descriptions.csv', encoding='ISO-8859-1')\n",
    "df_attr = pd.read_csv('/Users/Hermione/MasterUCL/Info retrieval and data mining/coursework/dataset/attributes.csv', encoding='ISO-8859-1')\n",
    "num_train = df_train.shape[0]"
   ]
  },
  {
   "cell_type": "code",
   "execution_count": 59,
   "metadata": {},
   "outputs": [
    {
     "data": {
      "text/html": [
       "<div>\n",
       "<table border=\"1\" class=\"dataframe\">\n",
       "  <thead>\n",
       "    <tr style=\"text-align: right;\">\n",
       "      <th></th>\n",
       "      <th>id</th>\n",
       "      <th>product_uid</th>\n",
       "      <th>product_title</th>\n",
       "      <th>search_term</th>\n",
       "      <th>relevance</th>\n",
       "    </tr>\n",
       "  </thead>\n",
       "  <tbody>\n",
       "    <tr>\n",
       "      <th>0</th>\n",
       "      <td>2</td>\n",
       "      <td>100001</td>\n",
       "      <td>Simpson Strong-Tie 12-Gauge Angle</td>\n",
       "      <td>angle bracket</td>\n",
       "      <td>3.00</td>\n",
       "    </tr>\n",
       "    <tr>\n",
       "      <th>1</th>\n",
       "      <td>3</td>\n",
       "      <td>100001</td>\n",
       "      <td>Simpson Strong-Tie 12-Gauge Angle</td>\n",
       "      <td>l bracket</td>\n",
       "      <td>2.50</td>\n",
       "    </tr>\n",
       "    <tr>\n",
       "      <th>2</th>\n",
       "      <td>9</td>\n",
       "      <td>100002</td>\n",
       "      <td>BEHR Premium Textured DeckOver 1-gal. #SC-141 ...</td>\n",
       "      <td>deck over</td>\n",
       "      <td>3.00</td>\n",
       "    </tr>\n",
       "    <tr>\n",
       "      <th>3</th>\n",
       "      <td>16</td>\n",
       "      <td>100005</td>\n",
       "      <td>Delta Vero 1-Handle Shower Only Faucet Trim Ki...</td>\n",
       "      <td>rain shower head</td>\n",
       "      <td>2.33</td>\n",
       "    </tr>\n",
       "    <tr>\n",
       "      <th>4</th>\n",
       "      <td>17</td>\n",
       "      <td>100005</td>\n",
       "      <td>Delta Vero 1-Handle Shower Only Faucet Trim Ki...</td>\n",
       "      <td>shower only faucet</td>\n",
       "      <td>2.67</td>\n",
       "    </tr>\n",
       "  </tbody>\n",
       "</table>\n",
       "</div>"
      ],
      "text/plain": [
       "   id  product_uid                                      product_title  \\\n",
       "0   2       100001                  Simpson Strong-Tie 12-Gauge Angle   \n",
       "1   3       100001                  Simpson Strong-Tie 12-Gauge Angle   \n",
       "2   9       100002  BEHR Premium Textured DeckOver 1-gal. #SC-141 ...   \n",
       "3  16       100005  Delta Vero 1-Handle Shower Only Faucet Trim Ki...   \n",
       "4  17       100005  Delta Vero 1-Handle Shower Only Faucet Trim Ki...   \n",
       "\n",
       "          search_term  relevance  \n",
       "0       angle bracket       3.00  \n",
       "1           l bracket       2.50  \n",
       "2           deck over       3.00  \n",
       "3    rain shower head       2.33  \n",
       "4  shower only faucet       2.67  "
      ]
     },
     "execution_count": 59,
     "metadata": {},
     "output_type": "execute_result"
    }
   ],
   "source": [
    "df_train.head()"
   ]
  },
  {
   "cell_type": "code",
   "execution_count": 60,
   "metadata": {},
   "outputs": [
    {
     "data": {
      "text/html": [
       "<div>\n",
       "<table border=\"1\" class=\"dataframe\">\n",
       "  <thead>\n",
       "    <tr style=\"text-align: right;\">\n",
       "      <th></th>\n",
       "      <th>id</th>\n",
       "      <th>product_uid</th>\n",
       "      <th>product_title</th>\n",
       "      <th>search_term</th>\n",
       "    </tr>\n",
       "  </thead>\n",
       "  <tbody>\n",
       "    <tr>\n",
       "      <th>0</th>\n",
       "      <td>1</td>\n",
       "      <td>100001</td>\n",
       "      <td>Simpson Strong-Tie 12-Gauge Angle</td>\n",
       "      <td>90 degree bracket</td>\n",
       "    </tr>\n",
       "    <tr>\n",
       "      <th>1</th>\n",
       "      <td>4</td>\n",
       "      <td>100001</td>\n",
       "      <td>Simpson Strong-Tie 12-Gauge Angle</td>\n",
       "      <td>metal l brackets</td>\n",
       "    </tr>\n",
       "    <tr>\n",
       "      <th>2</th>\n",
       "      <td>5</td>\n",
       "      <td>100001</td>\n",
       "      <td>Simpson Strong-Tie 12-Gauge Angle</td>\n",
       "      <td>simpson sku able</td>\n",
       "    </tr>\n",
       "    <tr>\n",
       "      <th>3</th>\n",
       "      <td>6</td>\n",
       "      <td>100001</td>\n",
       "      <td>Simpson Strong-Tie 12-Gauge Angle</td>\n",
       "      <td>simpson strong  ties</td>\n",
       "    </tr>\n",
       "    <tr>\n",
       "      <th>4</th>\n",
       "      <td>7</td>\n",
       "      <td>100001</td>\n",
       "      <td>Simpson Strong-Tie 12-Gauge Angle</td>\n",
       "      <td>simpson strong tie hcc668</td>\n",
       "    </tr>\n",
       "  </tbody>\n",
       "</table>\n",
       "</div>"
      ],
      "text/plain": [
       "   id  product_uid                      product_title  \\\n",
       "0   1       100001  Simpson Strong-Tie 12-Gauge Angle   \n",
       "1   4       100001  Simpson Strong-Tie 12-Gauge Angle   \n",
       "2   5       100001  Simpson Strong-Tie 12-Gauge Angle   \n",
       "3   6       100001  Simpson Strong-Tie 12-Gauge Angle   \n",
       "4   7       100001  Simpson Strong-Tie 12-Gauge Angle   \n",
       "\n",
       "                 search_term  \n",
       "0          90 degree bracket  \n",
       "1           metal l brackets  \n",
       "2           simpson sku able  \n",
       "3       simpson strong  ties  \n",
       "4  simpson strong tie hcc668  "
      ]
     },
     "execution_count": 60,
     "metadata": {},
     "output_type": "execute_result"
    }
   ],
   "source": [
    "df_test.head()"
   ]
  },
  {
   "cell_type": "code",
   "execution_count": 61,
   "metadata": {},
   "outputs": [
    {
     "data": {
      "text/html": [
       "<div>\n",
       "<table border=\"1\" class=\"dataframe\">\n",
       "  <thead>\n",
       "    <tr style=\"text-align: right;\">\n",
       "      <th></th>\n",
       "      <th>product_uid</th>\n",
       "      <th>product_description</th>\n",
       "    </tr>\n",
       "  </thead>\n",
       "  <tbody>\n",
       "    <tr>\n",
       "      <th>0</th>\n",
       "      <td>100001</td>\n",
       "      <td>Not only do angles make joints stronger, they ...</td>\n",
       "    </tr>\n",
       "    <tr>\n",
       "      <th>1</th>\n",
       "      <td>100002</td>\n",
       "      <td>BEHR Premium Textured DECKOVER is an innovativ...</td>\n",
       "    </tr>\n",
       "    <tr>\n",
       "      <th>2</th>\n",
       "      <td>100003</td>\n",
       "      <td>Classic architecture meets contemporary design...</td>\n",
       "    </tr>\n",
       "    <tr>\n",
       "      <th>3</th>\n",
       "      <td>100004</td>\n",
       "      <td>The Grape Solar 265-Watt Polycrystalline PV So...</td>\n",
       "    </tr>\n",
       "    <tr>\n",
       "      <th>4</th>\n",
       "      <td>100005</td>\n",
       "      <td>Update your bathroom with the Delta Vero Singl...</td>\n",
       "    </tr>\n",
       "  </tbody>\n",
       "</table>\n",
       "</div>"
      ],
      "text/plain": [
       "   product_uid                                product_description\n",
       "0       100001  Not only do angles make joints stronger, they ...\n",
       "1       100002  BEHR Premium Textured DECKOVER is an innovativ...\n",
       "2       100003  Classic architecture meets contemporary design...\n",
       "3       100004  The Grape Solar 265-Watt Polycrystalline PV So...\n",
       "4       100005  Update your bathroom with the Delta Vero Singl..."
      ]
     },
     "execution_count": 61,
     "metadata": {},
     "output_type": "execute_result"
    }
   ],
   "source": [
    "df_desp.head()"
   ]
  },
  {
   "cell_type": "code",
   "execution_count": 62,
   "metadata": {},
   "outputs": [
    {
     "data": {
      "text/html": [
       "<div>\n",
       "<table border=\"1\" class=\"dataframe\">\n",
       "  <thead>\n",
       "    <tr style=\"text-align: right;\">\n",
       "      <th></th>\n",
       "      <th>product_uid</th>\n",
       "      <th>name</th>\n",
       "      <th>value</th>\n",
       "      <th>about_bullet</th>\n",
       "      <th>about_color</th>\n",
       "      <th>about_material</th>\n",
       "      <th>about_comres</th>\n",
       "      <th>about_intoutdoor</th>\n",
       "      <th>about_estar</th>\n",
       "    </tr>\n",
       "  </thead>\n",
       "  <tbody>\n",
       "    <tr>\n",
       "      <th>0</th>\n",
       "      <td>100001.0</td>\n",
       "      <td>Bullet01</td>\n",
       "      <td>Versatile connector for various 90Â° connectio...</td>\n",
       "      <td>True</td>\n",
       "      <td>False</td>\n",
       "      <td>False</td>\n",
       "      <td>False</td>\n",
       "      <td>False</td>\n",
       "      <td>False</td>\n",
       "    </tr>\n",
       "    <tr>\n",
       "      <th>1</th>\n",
       "      <td>100001.0</td>\n",
       "      <td>Bullet02</td>\n",
       "      <td>Stronger than angled nailing or screw fastenin...</td>\n",
       "      <td>True</td>\n",
       "      <td>False</td>\n",
       "      <td>False</td>\n",
       "      <td>False</td>\n",
       "      <td>False</td>\n",
       "      <td>False</td>\n",
       "    </tr>\n",
       "    <tr>\n",
       "      <th>2</th>\n",
       "      <td>100001.0</td>\n",
       "      <td>Bullet03</td>\n",
       "      <td>Help ensure joints are consistently straight a...</td>\n",
       "      <td>True</td>\n",
       "      <td>False</td>\n",
       "      <td>False</td>\n",
       "      <td>False</td>\n",
       "      <td>False</td>\n",
       "      <td>False</td>\n",
       "    </tr>\n",
       "    <tr>\n",
       "      <th>3</th>\n",
       "      <td>100001.0</td>\n",
       "      <td>Bullet04</td>\n",
       "      <td>Dimensions: 3 in. x 3 in. x 1-1/2 in.</td>\n",
       "      <td>True</td>\n",
       "      <td>False</td>\n",
       "      <td>False</td>\n",
       "      <td>False</td>\n",
       "      <td>False</td>\n",
       "      <td>False</td>\n",
       "    </tr>\n",
       "    <tr>\n",
       "      <th>4</th>\n",
       "      <td>100001.0</td>\n",
       "      <td>Bullet05</td>\n",
       "      <td>Made from 12-Gauge steel</td>\n",
       "      <td>True</td>\n",
       "      <td>False</td>\n",
       "      <td>False</td>\n",
       "      <td>False</td>\n",
       "      <td>False</td>\n",
       "      <td>False</td>\n",
       "    </tr>\n",
       "  </tbody>\n",
       "</table>\n",
       "</div>"
      ],
      "text/plain": [
       "   product_uid      name                                              value  \\\n",
       "0     100001.0  Bullet01  Versatile connector for various 90Â° connectio...   \n",
       "1     100001.0  Bullet02  Stronger than angled nailing or screw fastenin...   \n",
       "2     100001.0  Bullet03  Help ensure joints are consistently straight a...   \n",
       "3     100001.0  Bullet04              Dimensions: 3 in. x 3 in. x 1-1/2 in.   \n",
       "4     100001.0  Bullet05                           Made from 12-Gauge steel   \n",
       "\n",
       "  about_bullet about_color about_material about_comres about_intoutdoor  \\\n",
       "0         True       False          False        False            False   \n",
       "1         True       False          False        False            False   \n",
       "2         True       False          False        False            False   \n",
       "3         True       False          False        False            False   \n",
       "4         True       False          False        False            False   \n",
       "\n",
       "  about_estar  \n",
       "0       False  \n",
       "1       False  \n",
       "2       False  \n",
       "3       False  \n",
       "4       False  "
      ]
     },
     "execution_count": 62,
     "metadata": {},
     "output_type": "execute_result"
    }
   ],
   "source": [
    "df_attr.head()"
   ]
  },
  {
   "cell_type": "code",
   "execution_count": 63,
   "metadata": {},
   "outputs": [
    {
     "data": {
      "text/plain": [
       "74067"
      ]
     },
     "execution_count": 63,
     "metadata": {},
     "output_type": "execute_result"
    }
   ],
   "source": [
    "num_train"
   ]
  },
  {
   "cell_type": "code",
   "execution_count": 4,
   "metadata": {},
   "outputs": [
    {
     "data": {
      "text/plain": [
       "MFG Brand Name                 86250\n",
       "Bullet02                       86248\n",
       "Bullet03                       86226\n",
       "Bullet04                       86174\n",
       "Bullet01                       85940\n",
       "Product Width (in.)            61137\n",
       "Bullet05                       60529\n",
       "Product Height (in.)           54698\n",
       "Product Depth (in.)            53652\n",
       "Product Weight (lb.)           45175\n",
       "Bullet06                       44901\n",
       "Color Family                   41508\n",
       "Bullet07                       34349\n",
       "Material                       31500\n",
       "Color/Finish                   28564\n",
       "Bullet08                       26645\n",
       "Certifications and Listings    24583\n",
       "Bullet09                       20567\n",
       "Assembled Height (in.)         18299\n",
       "Assembled Width (in.)          18263\n",
       "Assembled Depth (in.)          18198\n",
       "Product Length (in.)           16705\n",
       "Bullet10                       14763\n",
       "Indoor/Outdoor                 12939\n",
       "Bullet11                       11784\n",
       "Commercial / Residential        9530\n",
       "Bullet12                        8795\n",
       "ENERGY STAR Certified           8420\n",
       "Hardware Included               7462\n",
       "Package Quantity                6904\n",
       "Name: name, dtype: int64"
      ]
     },
     "execution_count": 4,
     "metadata": {},
     "output_type": "execute_result"
    }
   ],
   "source": [
    "#Attributes\n",
    "df_attr['name'].value_counts()[:30]"
   ]
  },
  {
   "cell_type": "code",
   "execution_count": 5,
   "metadata": {
    "collapsed": true
   },
   "outputs": [],
   "source": [
    "df_attr.dropna(inplace=True)"
   ]
  },
  {
   "cell_type": "code",
   "execution_count": 6,
   "metadata": {
    "collapsed": true
   },
   "outputs": [],
   "source": [
    "def filter_str(df, s, col='search_term'):\n",
    "    return df[df[col].str.lower().str.contains(s)]"
   ]
  },
  {
   "cell_type": "code",
   "execution_count": null,
   "metadata": {},
   "outputs": [],
   "source": [
    "filter_str(df, 'hardware')\n"
   ]
  },
  {
   "cell_type": "code",
   "execution_count": 8,
   "metadata": {},
   "outputs": [
    {
     "data": {
      "text/plain": [
       "No     6939\n",
       "Yes    1481\n",
       "Name: value, dtype: int64"
      ]
     },
     "execution_count": 8,
     "metadata": {},
     "output_type": "execute_result"
    }
   ],
   "source": [
    "filter_str(df_attr, 'energy star certified', 'name')['value'].value_counts()"
   ]
  },
  {
   "cell_type": "code",
   "execution_count": 9,
   "metadata": {
    "collapsed": true
   },
   "outputs": [],
   "source": [
    "#Brands\n",
    "df_brand = df_attr[df_attr.name == 'MFG Brand Name'][['product_uid', 'value']].rename(columns={'value': 'brand'})"
   ]
  },
  {
   "cell_type": "code",
   "execution_count": 10,
   "metadata": {
    "collapsed": true
   },
   "outputs": [],
   "source": [
    "#Bullets\n",
    "bullet = dict()\n",
    "bullet_count = dict()\n",
    "df_attr['about_bullet'] = df_attr['name'].str.lower().str.contains('bullet')\n",
    "for idx, row in df_attr[df_attr['about_bullet']].iterrows():\n",
    "    pid = row['product_uid']\n",
    "    value = row['value']\n",
    "    bullet.setdefault(pid, '')\n",
    "    bullet_count.setdefault(pid, 0)\n",
    "    bullet[pid] = bullet[pid] + ' ' + str(value)\n",
    "    bullet_count[pid] = bullet_count[pid] + 1\n",
    "df_bullet = pd.DataFrame.from_dict(bullet, orient='index').reset_index()\n",
    "df_bullet_count = pd.DataFrame.from_dict(bullet_count, orient='index').reset_index().astype(np.float)\n",
    "df_bullet.columns = ['product_uid', 'bullet']\n",
    "df_bullet_count.columns = ['product_uid', 'bullet_count']"
   ]
  },
  {
   "cell_type": "code",
   "execution_count": 11,
   "metadata": {
    "collapsed": true
   },
   "outputs": [],
   "source": [
    "#colors\n",
    "color = dict()\n",
    "df_attr['about_color'] = df_attr['name'].str.lower().str.contains('color')\n",
    "for idx, row in df_attr[df_attr['about_color']].iterrows():\n",
    "    pid = row['product_uid']\n",
    "    value = row['value']\n",
    "    color.setdefault(pid, '')\n",
    "    color[pid] = color[pid] + ' ' + str(value)\n",
    "df_color = pd.DataFrame.from_dict(color, orient='index').reset_index()\n",
    "df_color.columns = ['product_uid', 'color']"
   ]
  },
  {
   "cell_type": "code",
   "execution_count": 12,
   "metadata": {
    "collapsed": true
   },
   "outputs": [],
   "source": [
    "#Material\n",
    "material = dict()\n",
    "df_attr['about_material'] = df_attr['name'].str.lower().str.contains('material')\n",
    "for idx, row in df_attr[df_attr['about_material']].iterrows():\n",
    "    pid = row['product_uid']\n",
    "    value = row['value']\n",
    "    material.setdefault(pid, '')\n",
    "    material[pid] = material[pid] + ' ' + str(value)\n",
    "df_material = pd.DataFrame.from_dict(material, orient='index').reset_index()\n",
    "df_material.columns = ['product_uid', 'material']\n"
   ]
  },
  {
   "cell_type": "code",
   "execution_count": 13,
   "metadata": {},
   "outputs": [
    {
     "data": {
      "text/plain": [
       "Commercial / Residential    5011\n",
       "Residential                 4337\n",
       "Commercial                   182\n",
       "Name: value, dtype: int64"
      ]
     },
     "execution_count": 13,
     "metadata": {},
     "output_type": "execute_result"
    }
   ],
   "source": [
    "#Commercial / Residential Flag\n",
    "comres_index = df_attr['name'].str.lower().str.contains('commercial / residential')\n",
    "df_attr[comres_index]['value'].value_counts()"
   ]
  },
  {
   "cell_type": "code",
   "execution_count": 14,
   "metadata": {
    "collapsed": true
   },
   "outputs": [],
   "source": [
    "flag_comres = dict()\n",
    "df_attr['about_comres'] = df_attr['name'].str.lower().str.contains('commercial / residential')\n",
    "for idx, row in df_attr[df_attr['about_comres']].iterrows():\n",
    "    pid = row['product_uid']\n",
    "    value = row['value']\n",
    "    flag_comres.setdefault(pid, [0, 0])\n",
    "    if 'Commercial' in str(value):\n",
    "        flag_comres[pid][0] = 1\n",
    "    if 'Residential' in str(value):\n",
    "        flag_comres[pid][1] = 1\n",
    "df_comres = pd.DataFrame.from_dict(flag_comres, orient='index').reset_index().astype(np.float)\n",
    "df_comres.columns = ['product_uid', 'flag_commercial', 'flag_residential']"
   ]
  },
  {
   "cell_type": "code",
   "execution_count": 15,
   "metadata": {},
   "outputs": [
    {
     "data": {
      "text/plain": [
       "Indoor                      7527\n",
       "Indoor/Outdoor              3925\n",
       "Outdoor                     1204\n",
       "Indoor,Outdoor               256\n",
       "Indoor/Outdoor (Covered)      47\n",
       "Name: value, dtype: int64"
      ]
     },
     "execution_count": 15,
     "metadata": {},
     "output_type": "execute_result"
    }
   ],
   "source": [
    "#Indoor/Outdoor Flag\n",
    "filter_str(df_attr, 'indoor/outdoor', 'name')['value'].value_counts()"
   ]
  },
  {
   "cell_type": "code",
   "execution_count": 16,
   "metadata": {
    "collapsed": true
   },
   "outputs": [],
   "source": [
    "flag_inoutdoor = dict()\n",
    "df_attr['about_intoutdoor'] = df_attr['name'].str.lower().str.contains('indoor/outdoor')\n",
    "for idx, row in df_attr[df_attr['about_intoutdoor']].iterrows():\n",
    "    pid = row['product_uid']\n",
    "    value = row['value']\n",
    "    flag_inoutdoor.setdefault(pid, [0, 0])\n",
    "    if 'Indoor' in str(value):\n",
    "        flag_inoutdoor[pid][0] = 1\n",
    "    if 'Outdoor' in str(value):\n",
    "        flag_inoutdoor[pid][1] = 1\n",
    "df_inoutdoor = pd.DataFrame.from_dict(flag_inoutdoor, orient='index').reset_index().astype(np.float)\n",
    "df_inoutdoor.columns = ['product_uid', 'flag_indoor', 'flag_outdoor']"
   ]
  },
  {
   "cell_type": "code",
   "execution_count": 17,
   "metadata": {},
   "outputs": [
    {
     "data": {
      "text/plain": [
       "1.0    11755\n",
       "0.0     1203\n",
       "Name: flag_indoor, dtype: int64"
      ]
     },
     "execution_count": 17,
     "metadata": {},
     "output_type": "execute_result"
    }
   ],
   "source": [
    "df_inoutdoor['flag_indoor'].value_counts()"
   ]
  },
  {
   "cell_type": "code",
   "execution_count": 18,
   "metadata": {},
   "outputs": [
    {
     "data": {
      "text/plain": [
       "No     6939\n",
       "Yes    1481\n",
       "Name: value, dtype: int64"
      ]
     },
     "execution_count": 18,
     "metadata": {},
     "output_type": "execute_result"
    }
   ],
   "source": [
    "#Energy Star\n",
    "filter_str(df_attr, 'energy star certified', 'name')['value'].value_counts()"
   ]
  },
  {
   "cell_type": "code",
   "execution_count": 19,
   "metadata": {
    "collapsed": true
   },
   "outputs": [],
   "source": [
    "flag_estar = dict()\n",
    "df_attr['about_estar'] = df_attr['name'].str.lower().str.contains('energy star certified')\n",
    "for idx, row in df_attr[df_attr['about_estar']].iterrows():\n",
    "    pid = row['product_uid']\n",
    "    value = row['value']\n",
    "    flag_estar.setdefault(pid, 0)\n",
    "    if 'Yes' in str(value):\n",
    "        flag_estar[pid] = 1\n",
    "df_estar = pd.DataFrame.from_dict(flag_estar, orient='index').reset_index().astype(np.float)\n",
    "df_estar.columns = ['product_uid', 'flag_estar']"
   ]
  },
  {
   "cell_type": "code",
   "execution_count": 20,
   "metadata": {},
   "outputs": [
    {
     "data": {
      "text/plain": [
       "0.0    6939\n",
       "1.0    1481\n",
       "Name: flag_estar, dtype: int64"
      ]
     },
     "execution_count": 20,
     "metadata": {},
     "output_type": "execute_result"
    }
   ],
   "source": [
    "df_estar['flag_estar'].value_counts()"
   ]
  },
  {
   "cell_type": "code",
   "execution_count": 21,
   "metadata": {
    "collapsed": true
   },
   "outputs": [],
   "source": [
    "df = pd.concat((df_train, df_test), axis=0, ignore_index=True)\n",
    "df = pd.merge(df, df_desp, how='left', on='product_uid')\n",
    "df = pd.merge(df, df_brand, how='left', on='product_uid')\n",
    "df = pd.merge(df, df_bullet, how='left', on='product_uid')\n",
    "df = pd.merge(df, df_bullet_count, how='left', on='product_uid')\n",
    "df = pd.merge(df, df_color, how='left', on='product_uid')\n",
    "df = pd.merge(df, df_material, how='left', on='product_uid')\n",
    "df = pd.merge(df, df_comres, how='left', on='product_uid')\n",
    "df = pd.merge(df, df_inoutdoor, how='left', on='product_uid')\n",
    "df = pd.merge(df, df_estar, how='left', on='product_uid')"
   ]
  },
  {
   "cell_type": "code",
   "execution_count": 22,
   "metadata": {
    "collapsed": true
   },
   "outputs": [],
   "source": [
    "#Fill na\n",
    "df['brand'].fillna('nobrand', inplace=True)\n",
    "df['bullet'].fillna('', inplace=True)\n",
    "df['bullet_count'].fillna(0, inplace=True)\n",
    "df['color'].fillna('', inplace=True)\n",
    "df['material'].fillna('', inplace=True)\n",
    "df['flag_commercial'].fillna(-1, inplace=True)\n",
    "df['flag_residential'].fillna(-1, inplace=True)\n",
    "df['flag_indoor'].fillna(-1, inplace=True)\n",
    "df['flag_outdoor'].fillna(-1, inplace=True)\n",
    "df['flag_estar'].fillna(-1, inplace=True)"
   ]
  },
  {
   "cell_type": "code",
   "execution_count": 23,
   "metadata": {},
   "outputs": [
    {
     "data": {
      "text/plain": [
       "<matplotlib.axes._subplots.AxesSubplot at 0x116480f98>"
      ]
     },
     "execution_count": 23,
     "metadata": {},
     "output_type": "execute_result"
    },
    {
     "data": {
      "image/png": "[encoded data removed]",
      "text/plain": [
       "<matplotlib.figure.Figure at 0x1176aeda0>"
      ]
     },
     "metadata": {},
     "output_type": "display_data"
    }
   ],
   "source": [
    "sns.countplot(x='relevance', data=df)"
   ]
  },
  {
   "cell_type": "code",
   "execution_count": 24,
   "metadata": {
    "collapsed": true
   },
   "outputs": [],
   "source": [
    "df['majority_relevance'] = df['relevance'].map(lambda x: x in [1.0, 1.33, 1.67, 2.0, 2.33, 2.67, 3.0])\n",
    "def majoritize(df):\n",
    "    return df[df['majority_relevance'] == 1]"
   ]
  },
  {
   "cell_type": "code",
   "execution_count": 25,
   "metadata": {
    "collapsed": true
   },
   "outputs": [],
   "source": [
    "#fix typos\n",
    "df['search_term'] = df['search_term'].map(correct_typo)"
   ]
  },
  {
   "cell_type": "code",
   "execution_count": 26,
   "metadata": {},
   "outputs": [
    {
     "data": {
      "text/plain": [
       "350.0"
      ]
     },
     "execution_count": 26,
     "metadata": {},
     "output_type": "execute_result"
    }
   ],
   "source": [
    "df['match_commercial'] = (df['search_term'].str.lower().str.contains('commercial') & df['flag_commercial']).astype(np.float)\n",
    "sum(df['match_commercial'])"
   ]
  },
  {
   "cell_type": "code",
   "execution_count": 27,
   "metadata": {},
   "outputs": [
    {
     "data": {
      "text/plain": [
       "56.0"
      ]
     },
     "execution_count": 27,
     "metadata": {},
     "output_type": "execute_result"
    }
   ],
   "source": [
    "df['match_residential'] = (df['search_term'].str.lower().str.contains('residential') & df['flag_residential']).astype(np.float)\n",
    "sum(df['match_residential'])"
   ]
  },
  {
   "cell_type": "code",
   "execution_count": 28,
   "metadata": {
    "collapsed": true
   },
   "outputs": [],
   "source": [
    "def filter_estar(df):\n",
    "    return df['search_term'].str.lower().str.contains('energy star') |\\\n",
    "    df['search_term'].str.lower().str.contains('energy efficient')\n"
   ]
  },
  {
   "cell_type": "code",
   "execution_count": 29,
   "metadata": {},
   "outputs": [
    {
     "data": {
      "text/plain": [
       "60.0"
      ]
     },
     "execution_count": 29,
     "metadata": {},
     "output_type": "execute_result"
    }
   ],
   "source": [
    "df['match_estar'] = (filter_estar(df) & df['flag_residential']).astype(np.float)\n",
    "sum(df['match_estar'])"
   ]
  },
  {
   "cell_type": "code",
   "execution_count": 30,
   "metadata": {},
   "outputs": [
    {
     "data": {
      "text/plain": [
       "591.0"
      ]
     },
     "execution_count": 30,
     "metadata": {},
     "output_type": "execute_result"
    }
   ],
   "source": [
    "df['match_indoor'] = (df['search_term'].str.lower().str.contains('indoor') & df['flag_indoor']).astype(np.float)\n",
    "sum(df['match_indoor'])"
   ]
  },
  {
   "cell_type": "code",
   "execution_count": 31,
   "metadata": {},
   "outputs": [
    {
     "data": {
      "text/plain": [
       "3509.0"
      ]
     },
     "execution_count": 31,
     "metadata": {},
     "output_type": "execute_result"
    }
   ],
   "source": [
    "df['match_outdoor'] = (df['search_term'].str.lower().str.contains('outdoor') & df['flag_outdoor']).astype(np.float)\n",
    "sum(df['match_outdoor'])"
   ]
  },
  {
   "cell_type": "code",
   "execution_count": 32,
   "metadata": {},
   "outputs": [
    {
     "data": {
      "text/plain": [
       "count    240760.000000\n",
       "mean          0.014575\n",
       "std           0.119843\n",
       "min           0.000000\n",
       "25%           0.000000\n",
       "50%           0.000000\n",
       "75%           0.000000\n",
       "max           1.000000\n",
       "Name: match_outdoor, dtype: float64"
      ]
     },
     "execution_count": 32,
     "metadata": {},
     "output_type": "execute_result"
    }
   ],
   "source": [
    "df['match_outdoor'].describe()"
   ]
  },
  {
   "cell_type": "code",
   "execution_count": 35,
   "metadata": {},
   "outputs": [],
   "source": [
    "#stemming&Tokenizing\n",
    "df['search_term'] = df['search_term'].map(lambda x: str_stem(x))\n",
    "df['product_title'] = df['product_title'].map(lambda x: str_stem(x))\n",
    "df['product_description'] = df['product_description'].map(lambda x: str_stem(x))\n",
    "df['brand'] = df['brand'].map(lambda x: str_stem(x))\n",
    "df['bullet'] = df['bullet'].map(lambda x: str_stem(x))\n"
   ]
  },
  {
   "cell_type": "code",
   "execution_count": 36,
   "metadata": {
    "collapsed": true
   },
   "outputs": [],
   "source": [
    "df['color'] = df['color'].map(lambda x: str_stem(x))\n",
    "df['material'] = df['material'].map(lambda x: str_stem(x))\n",
    "df['tokens_search_term'] = df['search_term'].map(lambda x: x.split())\n",
    "df['tokens_product_title'] = df['product_title'].map(lambda x: x.split())\n",
    "df['tokens_product_description'] = df['product_description'].map(lambda x: x.split())\n",
    "df['tokens_brand'] = df['brand'].map(lambda x: x.split())\n",
    "df['tokens_bullet'] = df['bullet'].map(lambda x: x.split())"
   ]
  },
  {
   "cell_type": "code",
   "execution_count": 37,
   "metadata": {
    "collapsed": true
   },
   "outputs": [],
   "source": [
    "#length\n",
    "df['len_search_term'] = df['tokens_search_term'].map(lambda x: len(x))\n",
    "df['len_product_title'] = df['tokens_product_title'].map(lambda x: len(x))\n",
    "df['len_product_description'] = df['tokens_product_description'].map(lambda x: len(x))\n",
    "df['len_brand'] = df['tokens_brand'].map(lambda x: len(x))\n",
    "df['len_bullet'] = df['tokens_bullet'].map(lambda x: len(x))"
   ]
  },
  {
   "cell_type": "code",
   "execution_count": 38,
   "metadata": {
    "collapsed": true
   },
   "outputs": [],
   "source": [
    "def match_color(st, colors):\n",
    "    for w in st:\n",
    "        if w in colors:\n",
    "            return True\n",
    "    return False"
   ]
  },
  {
   "cell_type": "code",
   "execution_count": 39,
   "metadata": {},
   "outputs": [
    {
     "data": {
      "text/plain": [
       "19255.0"
      ]
     },
     "execution_count": 39,
     "metadata": {},
     "output_type": "execute_result"
    }
   ],
   "source": [
    "df['match_color'] = df.apply(lambda x: match_color(x['tokens_search_term'], x['color']), axis=1).astype(np.float)\n",
    "sum(df['match_color'])"
   ]
  },
  {
   "cell_type": "code",
   "execution_count": 40,
   "metadata": {},
   "outputs": [
    {
     "data": {
      "text/plain": [
       "13895.0"
      ]
     },
     "execution_count": 40,
     "metadata": {},
     "output_type": "execute_result"
    }
   ],
   "source": [
    "def match_material(st, materials):\n",
    "    for w in st:\n",
    "        if w in materials:\n",
    "            return True\n",
    "    return False\n",
    "df['match_material'] = df.apply(lambda x: match_material(x['tokens_search_term'], x['material']), axis=1).astype(np.float)\n",
    "sum(df['match_material'])"
   ]
  },
  {
   "cell_type": "code",
   "execution_count": 41,
   "metadata": {},
   "outputs": [
    {
     "data": {
      "text/plain": [
       "12"
      ]
     },
     "execution_count": 41,
     "metadata": {},
     "output_type": "execute_result"
    }
   ],
   "source": [
    "#positioned word matching\n",
    "\n",
    "df['len_search_term'].max()\n"
   ]
  },
  {
   "cell_type": "code",
   "execution_count": 42,
   "metadata": {
    "collapsed": true
   },
   "outputs": [],
   "source": [
    "def match_pos(row, col, pos):\n",
    "    if pos >= row['len_search_term'] or pos >= row['len_'+col]:\n",
    "        return 0\n",
    "    else:\n",
    "        return int(row['tokens_search_term'][pos] in row[col])"
   ]
  },
  {
   "cell_type": "code",
   "execution_count": 43,
   "metadata": {
    "collapsed": true
   },
   "outputs": [],
   "source": [
    "for i in range(10):\n",
    "    df[str(i)+'th_word_in_pt'] = df.apply(lambda x: match_pos(x, 'product_title', i), axis=1)\n",
    "for i in range(10):\n",
    "    df[str(i)+'th_word_in_pd'] = df.apply(lambda x: match_pos(x, 'product_description', i), axis=1)\n",
    "for i in range(10):\n",
    "    df[str(i)+'th_word_in_bl'] = df.apply(lambda x: match_pos(x, 'bullet', i), axis=1)\n"
   ]
  },
  {
   "cell_type": "code",
   "execution_count": 44,
   "metadata": {
    "collapsed": true
   },
   "outputs": [],
   "source": [
    "#encode brand feature\n",
    "brands = pd.unique(df.brand.ravel())\n",
    "brand_encoder = {}\n",
    "index = 1000\n",
    "for brand in brands:\n",
    "    brand_encoder[brand] = index\n",
    "    index += 10\n",
    "brand_encoder['nobrand'] = 500\n",
    "df['brand_encoded'] = df['brand'].map(lambda x: brand_encoder.get(x, 500))"
   ]
  },
  {
   "cell_type": "code",
   "execution_count": 45,
   "metadata": {
    "collapsed": true
   },
   "outputs": [],
   "source": [
    "pid_with_attr_material = pd.unique(df_material.product_uid.ravel())\n",
    "material_encoder = {}\n",
    "for pid in pid_with_attr_material:\n",
    "    material_encoder[pid] = 1\n",
    "df['flag_attr_has_material'] = df['product_uid'].map(lambda x: material_encoder.get(x, 0)).astype(np.float)"
   ]
  },
  {
   "cell_type": "code",
   "execution_count": 46,
   "metadata": {
    "collapsed": true
   },
   "outputs": [],
   "source": [
    "pid_with_attr_color = pd.unique(df_color.product_uid.ravel())\n",
    "color_encoder = {}\n",
    "for pid in pid_with_attr_color:\n",
    "    color_encoder[pid] = 1\n",
    "df['flag_attr_has_color'] = df['product_uid'].map(lambda x: color_encoder.get(x, 0)).astype(np.float)"
   ]
  },
  {
   "cell_type": "code",
   "execution_count": 48,
   "metadata": {},
   "outputs": [
    {
     "data": {
      "text/plain": [
       "<matplotlib.axes._subplots.AxesSubplot at 0x120a5eac8>"
      ]
     },
     "execution_count": 48,
     "metadata": {},
     "output_type": "execute_result"
    },
    {
     "data": {
      "image/png": "[encoded data removed]",
      "text/plain": [
       "<matplotlib.figure.Figure at 0x11fbbed30>"
      ]
     },
     "metadata": {},
     "output_type": "display_data"
    }
   ],
   "source": [
    "#encode attribute features\n",
    "pids_with_attr = pd.unique(df_attr.product_uid.ravel())\n",
    "attr_encoder = {}\n",
    "for pid in pids_with_attr:\n",
    "    attr_encoder[pid] = 1\n",
    "df['flag_has_attr'] = df['product_uid'].map(lambda x: attr_encoder.get(x, 0)).astype(np.float)\n",
    "\n",
    "sns.boxplot(x='flag_has_attr', y='relevance', data=majoritize(df))"
   ]
  },
  {
   "cell_type": "code",
   "execution_count": 49,
   "metadata": {
    "collapsed": true
   },
   "outputs": [],
   "source": [
    "#BoW with CountVectorizer\n",
    "from sklearn.feature_extraction.text import CountVectorizer"
   ]
  },
  {
   "cell_type": "code",
   "execution_count": 50,
   "metadata": {
    "collapsed": true
   },
   "outputs": [],
   "source": [
    "cv = CountVectorizer(stop_words='english', max_features=1000)"
   ]
  },
  {
   "cell_type": "code",
   "execution_count": 51,
   "metadata": {},
   "outputs": [
    {
     "data": {
      "text/plain": [
       "CountVectorizer(analyzer='word', binary=False, decode_error='strict',\n",
       "        dtype=<class 'numpy.int64'>, encoding='utf-8', input='content',\n",
       "        lowercase=True, max_df=1.0, max_features=1000, min_df=1,\n",
       "        ngram_range=(1, 1), preprocessor=None, stop_words='english',\n",
       "        strip_accents=None, token_pattern='(?u)\\\\b\\\\w\\\\w+\\\\b',\n",
       "        tokenizer=None, vocabulary=None)"
      ]
     },
     "execution_count": 51,
     "metadata": {},
     "output_type": "execute_result"
    }
   ],
   "source": [
    "cv.fit(df['search_term'] + ' ' + df['product_title'] + ' ' + df['product_description'] + ' ' + df['bullet'])"
   ]
  },
  {
   "cell_type": "code",
   "execution_count": 52,
   "metadata": {
    "collapsed": true
   },
   "outputs": [],
   "source": [
    "cv_of_st = cv.transform(df['search_term'])\n",
    "cv_of_pt = cv.transform(df['product_title'])\n",
    "cv_of_pd = cv.transform(df['product_description'])\n",
    "cv_of_bl = cv.transform(df['bullet'])"
   ]
  },
  {
   "cell_type": "code",
   "execution_count": 53,
   "metadata": {},
   "outputs": [
    {
     "data": {
      "text/plain": [
       "TfidfVectorizer(analyzer='word', binary=False, decode_error='strict',\n",
       "        dtype=<class 'numpy.int64'>, encoding='utf-8', input='content',\n",
       "        lowercase=True, max_df=1.0, max_features=1000, min_df=1,\n",
       "        ngram_range=(1, 3), norm='l2', preprocessor=None, smooth_idf=True,\n",
       "        stop_words='english', strip_accents=None, sublinear_tf=False,\n",
       "        token_pattern='(?u)\\\\b\\\\w\\\\w+\\\\b', tokenizer=None, use_idf=True,\n",
       "        vocabulary=None)"
      ]
     },
     "execution_count": 53,
     "metadata": {},
     "output_type": "execute_result"
    }
   ],
   "source": [
    "#tfidf\n",
    "from sklearn.feature_extraction.text import TfidfVectorizer\n",
    "tiv = TfidfVectorizer(ngram_range=(1, 3), stop_words='english', max_features=1000)\n",
    "tiv.fit(df['search_term'] + ' ' + df['product_title'] + ' ' + df['product_description'] + ' ' + df['bullet'])"
   ]
  },
  {
   "cell_type": "code",
   "execution_count": 54,
   "metadata": {
    "collapsed": true
   },
   "outputs": [],
   "source": [
    "tiv_of_st = tiv.transform(df['search_term'])\n",
    "tiv_of_pt = tiv.transform(df['product_title'])\n",
    "tiv_of_pd = tiv.transform(df['product_description'])\n",
    "tiv_of_bl = tiv.transform(df['bullet'])"
   ]
  },
  {
   "cell_type": "code",
   "execution_count": 55,
   "metadata": {
    "collapsed": true
   },
   "outputs": [],
   "source": [
    "#TFIDF_Cosine Similarity\n",
    "\n",
    "from sklearn.metrics.pairwise import cosine_similarity\n"
   ]
  },
  {
   "cell_type": "code",
   "execution_count": 56,
   "metadata": {},
   "outputs": [
    {
     "name": "stdout",
     "output_type": "stream",
     "text": [
      "Number of Features:  53\n"
     ]
    }
   ],
   "source": [
    "cols_to_drop = [\n",
    "    #'product_uid',\n",
    "    'search_term',\n",
    "    'product_title',\n",
    "    'product_description',\n",
    "    'brand',\n",
    "    'bullet',\n",
    "    'color',\n",
    "    'material',    \n",
    "    'tokens_search_term',\n",
    "    'tokens_product_title',\n",
    "    'tokens_product_description',\n",
    "    'tokens_brand',\n",
    "    'tokens_bullet',\n",
    "    'majority_relevance'\n",
    "]\n",
    "export_df = df.drop(cols_to_drop, axis=1)\n",
    "print('Number of Features: ', len(export_df.columns.tolist()) - 2)"
   ]
  },
  {
   "cell_type": "code",
   "execution_count": 57,
   "metadata": {},
   "outputs": [
    {
     "data": {
      "text/html": [
       "<div>\n",
       "<table border=\"1\" class=\"dataframe\">\n",
       "  <thead>\n",
       "    <tr style=\"text-align: right;\">\n",
       "      <th></th>\n",
       "      <th>id</th>\n",
       "      <th>product_uid</th>\n",
       "      <th>relevance</th>\n",
       "      <th>bullet_count</th>\n",
       "      <th>flag_commercial</th>\n",
       "      <th>flag_residential</th>\n",
       "      <th>flag_indoor</th>\n",
       "      <th>flag_outdoor</th>\n",
       "      <th>flag_estar</th>\n",
       "      <th>match_commercial</th>\n",
       "      <th>match_residential</th>\n",
       "      <th>match_estar</th>\n",
       "      <th>match_indoor</th>\n",
       "      <th>match_outdoor</th>\n",
       "      <th>len_search_term</th>\n",
       "      <th>len_product_title</th>\n",
       "      <th>len_product_description</th>\n",
       "      <th>len_brand</th>\n",
       "      <th>len_bullet</th>\n",
       "      <th>match_color</th>\n",
       "      <th>match_material</th>\n",
       "      <th>0th_word_in_pt</th>\n",
       "      <th>1th_word_in_pt</th>\n",
       "      <th>2th_word_in_pt</th>\n",
       "      <th>3th_word_in_pt</th>\n",
       "      <th>4th_word_in_pt</th>\n",
       "      <th>5th_word_in_pt</th>\n",
       "      <th>6th_word_in_pt</th>\n",
       "      <th>7th_word_in_pt</th>\n",
       "      <th>8th_word_in_pt</th>\n",
       "      <th>9th_word_in_pt</th>\n",
       "      <th>0th_word_in_pd</th>\n",
       "      <th>1th_word_in_pd</th>\n",
       "      <th>2th_word_in_pd</th>\n",
       "      <th>3th_word_in_pd</th>\n",
       "      <th>4th_word_in_pd</th>\n",
       "      <th>5th_word_in_pd</th>\n",
       "      <th>6th_word_in_pd</th>\n",
       "      <th>7th_word_in_pd</th>\n",
       "      <th>8th_word_in_pd</th>\n",
       "      <th>9th_word_in_pd</th>\n",
       "      <th>0th_word_in_bl</th>\n",
       "      <th>1th_word_in_bl</th>\n",
       "      <th>2th_word_in_bl</th>\n",
       "      <th>3th_word_in_bl</th>\n",
       "      <th>4th_word_in_bl</th>\n",
       "      <th>5th_word_in_bl</th>\n",
       "      <th>6th_word_in_bl</th>\n",
       "      <th>7th_word_in_bl</th>\n",
       "      <th>8th_word_in_bl</th>\n",
       "      <th>9th_word_in_bl</th>\n",
       "      <th>brand_encoded</th>\n",
       "      <th>flag_attr_has_material</th>\n",
       "      <th>flag_attr_has_color</th>\n",
       "      <th>flag_has_attr</th>\n",
       "    </tr>\n",
       "  </thead>\n",
       "  <tbody>\n",
       "    <tr>\n",
       "      <th>0</th>\n",
       "      <td>2</td>\n",
       "      <td>100001</td>\n",
       "      <td>3.0</td>\n",
       "      <td>7.0</td>\n",
       "      <td>-1.0</td>\n",
       "      <td>-1.0</td>\n",
       "      <td>-1.0</td>\n",
       "      <td>-1.0</td>\n",
       "      <td>-1.0</td>\n",
       "      <td>0.0</td>\n",
       "      <td>0.0</td>\n",
       "      <td>0.0</td>\n",
       "      <td>0.0</td>\n",
       "      <td>0.0</td>\n",
       "      <td>2</td>\n",
       "      <td>6</td>\n",
       "      <td>129</td>\n",
       "      <td>3</td>\n",
       "      <td>58</td>\n",
       "      <td>0.0</td>\n",
       "      <td>0.0</td>\n",
       "      <td>1</td>\n",
       "      <td>0</td>\n",
       "      <td>0</td>\n",
       "      <td>0</td>\n",
       "      <td>0</td>\n",
       "      <td>0</td>\n",
       "      <td>0</td>\n",
       "      <td>0</td>\n",
       "      <td>0</td>\n",
       "      <td>0</td>\n",
       "      <td>1</td>\n",
       "      <td>0</td>\n",
       "      <td>0</td>\n",
       "      <td>0</td>\n",
       "      <td>0</td>\n",
       "      <td>0</td>\n",
       "      <td>0</td>\n",
       "      <td>0</td>\n",
       "      <td>0</td>\n",
       "      <td>0</td>\n",
       "      <td>1</td>\n",
       "      <td>0</td>\n",
       "      <td>0</td>\n",
       "      <td>0</td>\n",
       "      <td>0</td>\n",
       "      <td>0</td>\n",
       "      <td>0</td>\n",
       "      <td>0</td>\n",
       "      <td>0</td>\n",
       "      <td>0</td>\n",
       "      <td>1000</td>\n",
       "      <td>1.0</td>\n",
       "      <td>0.0</td>\n",
       "      <td>1.0</td>\n",
       "    </tr>\n",
       "    <tr>\n",
       "      <th>1</th>\n",
       "      <td>3</td>\n",
       "      <td>100001</td>\n",
       "      <td>2.5</td>\n",
       "      <td>7.0</td>\n",
       "      <td>-1.0</td>\n",
       "      <td>-1.0</td>\n",
       "      <td>-1.0</td>\n",
       "      <td>-1.0</td>\n",
       "      <td>-1.0</td>\n",
       "      <td>0.0</td>\n",
       "      <td>0.0</td>\n",
       "      <td>0.0</td>\n",
       "      <td>0.0</td>\n",
       "      <td>0.0</td>\n",
       "      <td>2</td>\n",
       "      <td>6</td>\n",
       "      <td>129</td>\n",
       "      <td>3</td>\n",
       "      <td>58</td>\n",
       "      <td>0.0</td>\n",
       "      <td>1.0</td>\n",
       "      <td>1</td>\n",
       "      <td>0</td>\n",
       "      <td>0</td>\n",
       "      <td>0</td>\n",
       "      <td>0</td>\n",
       "      <td>0</td>\n",
       "      <td>0</td>\n",
       "      <td>0</td>\n",
       "      <td>0</td>\n",
       "      <td>0</td>\n",
       "      <td>1</td>\n",
       "      <td>0</td>\n",
       "      <td>0</td>\n",
       "      <td>0</td>\n",
       "      <td>0</td>\n",
       "      <td>0</td>\n",
       "      <td>0</td>\n",
       "      <td>0</td>\n",
       "      <td>0</td>\n",
       "      <td>0</td>\n",
       "      <td>1</td>\n",
       "      <td>0</td>\n",
       "      <td>0</td>\n",
       "      <td>0</td>\n",
       "      <td>0</td>\n",
       "      <td>0</td>\n",
       "      <td>0</td>\n",
       "      <td>0</td>\n",
       "      <td>0</td>\n",
       "      <td>0</td>\n",
       "      <td>1000</td>\n",
       "      <td>1.0</td>\n",
       "      <td>0.0</td>\n",
       "      <td>1.0</td>\n",
       "    </tr>\n",
       "    <tr>\n",
       "      <th>2</th>\n",
       "      <td>9</td>\n",
       "      <td>100002</td>\n",
       "      <td>3.0</td>\n",
       "      <td>10.0</td>\n",
       "      <td>-1.0</td>\n",
       "      <td>-1.0</td>\n",
       "      <td>-1.0</td>\n",
       "      <td>-1.0</td>\n",
       "      <td>-1.0</td>\n",
       "      <td>0.0</td>\n",
       "      <td>0.0</td>\n",
       "      <td>0.0</td>\n",
       "      <td>0.0</td>\n",
       "      <td>0.0</td>\n",
       "      <td>2</td>\n",
       "      <td>12</td>\n",
       "      <td>167</td>\n",
       "      <td>4</td>\n",
       "      <td>109</td>\n",
       "      <td>0.0</td>\n",
       "      <td>0.0</td>\n",
       "      <td>1</td>\n",
       "      <td>0</td>\n",
       "      <td>0</td>\n",
       "      <td>0</td>\n",
       "      <td>0</td>\n",
       "      <td>0</td>\n",
       "      <td>0</td>\n",
       "      <td>0</td>\n",
       "      <td>0</td>\n",
       "      <td>0</td>\n",
       "      <td>1</td>\n",
       "      <td>1</td>\n",
       "      <td>0</td>\n",
       "      <td>0</td>\n",
       "      <td>0</td>\n",
       "      <td>0</td>\n",
       "      <td>0</td>\n",
       "      <td>0</td>\n",
       "      <td>0</td>\n",
       "      <td>0</td>\n",
       "      <td>1</td>\n",
       "      <td>1</td>\n",
       "      <td>0</td>\n",
       "      <td>0</td>\n",
       "      <td>0</td>\n",
       "      <td>0</td>\n",
       "      <td>0</td>\n",
       "      <td>0</td>\n",
       "      <td>0</td>\n",
       "      <td>0</td>\n",
       "      <td>1010</td>\n",
       "      <td>0.0</td>\n",
       "      <td>1.0</td>\n",
       "      <td>1.0</td>\n",
       "    </tr>\n",
       "  </tbody>\n",
       "</table>\n",
       "</div>"
      ],
      "text/plain": [
       "   id  product_uid  relevance  bullet_count  flag_commercial  \\\n",
       "0   2       100001        3.0           7.0             -1.0   \n",
       "1   3       100001        2.5           7.0             -1.0   \n",
       "2   9       100002        3.0          10.0             -1.0   \n",
       "\n",
       "   flag_residential  flag_indoor  flag_outdoor  flag_estar  match_commercial  \\\n",
       "0              -1.0         -1.0          -1.0        -1.0               0.0   \n",
       "1              -1.0         -1.0          -1.0        -1.0               0.0   \n",
       "2              -1.0         -1.0          -1.0        -1.0               0.0   \n",
       "\n",
       "   match_residential  match_estar  match_indoor  match_outdoor  \\\n",
       "0                0.0          0.0           0.0            0.0   \n",
       "1                0.0          0.0           0.0            0.0   \n",
       "2                0.0          0.0           0.0            0.0   \n",
       "\n",
       "   len_search_term  len_product_title  len_product_description  len_brand  \\\n",
       "0                2                  6                      129          3   \n",
       "1                2                  6                      129          3   \n",
       "2                2                 12                      167          4   \n",
       "\n",
       "   len_bullet  match_color  match_material  0th_word_in_pt  1th_word_in_pt  \\\n",
       "0          58          0.0             0.0               1               0   \n",
       "1          58          0.0             1.0               1               0   \n",
       "2         109          0.0             0.0               1               0   \n",
       "\n",
       "   2th_word_in_pt  3th_word_in_pt  4th_word_in_pt  5th_word_in_pt  \\\n",
       "0               0               0               0               0   \n",
       "1               0               0               0               0   \n",
       "2               0               0               0               0   \n",
       "\n",
       "   6th_word_in_pt  7th_word_in_pt  8th_word_in_pt  9th_word_in_pt  \\\n",
       "0               0               0               0               0   \n",
       "1               0               0               0               0   \n",
       "2               0               0               0               0   \n",
       "\n",
       "   0th_word_in_pd  1th_word_in_pd  2th_word_in_pd  3th_word_in_pd  \\\n",
       "0               1               0               0               0   \n",
       "1               1               0               0               0   \n",
       "2               1               1               0               0   \n",
       "\n",
       "   4th_word_in_pd  5th_word_in_pd  6th_word_in_pd  7th_word_in_pd  \\\n",
       "0               0               0               0               0   \n",
       "1               0               0               0               0   \n",
       "2               0               0               0               0   \n",
       "\n",
       "   8th_word_in_pd  9th_word_in_pd  0th_word_in_bl  1th_word_in_bl  \\\n",
       "0               0               0               1               0   \n",
       "1               0               0               1               0   \n",
       "2               0               0               1               1   \n",
       "\n",
       "   2th_word_in_bl  3th_word_in_bl  4th_word_in_bl  5th_word_in_bl  \\\n",
       "0               0               0               0               0   \n",
       "1               0               0               0               0   \n",
       "2               0               0               0               0   \n",
       "\n",
       "   6th_word_in_bl  7th_word_in_bl  8th_word_in_bl  9th_word_in_bl  \\\n",
       "0               0               0               0               0   \n",
       "1               0               0               0               0   \n",
       "2               0               0               0               0   \n",
       "\n",
       "   brand_encoded  flag_attr_has_material  flag_attr_has_color  flag_has_attr  \n",
       "0           1000                     1.0                  0.0            1.0  \n",
       "1           1000                     1.0                  0.0            1.0  \n",
       "2           1010                     0.0                  1.0            1.0  "
      ]
     },
     "execution_count": 57,
     "metadata": {},
     "output_type": "execute_result"
    }
   ],
   "source": [
    "export_df.head(3)"
   ]
  },
  {
   "cell_type": "code",
   "execution_count": 65,
   "metadata": {},
   "outputs": [
    {
     "data": {
      "text/plain": [
       "Index(['id', 'product_uid', 'relevance', 'bullet_count', 'flag_commercial',\n",
       "       'flag_residential', 'flag_indoor', 'flag_outdoor', 'flag_estar',\n",
       "       'match_commercial', 'match_residential', 'match_estar', 'match_indoor',\n",
       "       'match_outdoor', 'len_search_term', 'len_product_title',\n",
       "       'len_product_description', 'len_brand', 'len_bullet', 'match_color',\n",
       "       'match_material', '0th_word_in_pt', '1th_word_in_pt', '2th_word_in_pt',\n",
       "       '3th_word_in_pt', '4th_word_in_pt', '5th_word_in_pt', '6th_word_in_pt',\n",
       "       '7th_word_in_pt', '8th_word_in_pt', '9th_word_in_pt', '0th_word_in_pd',\n",
       "       '1th_word_in_pd', '2th_word_in_pd', '3th_word_in_pd', '4th_word_in_pd',\n",
       "       '5th_word_in_pd', '6th_word_in_pd', '7th_word_in_pd', '8th_word_in_pd',\n",
       "       '9th_word_in_pd', '0th_word_in_bl', '1th_word_in_bl', '2th_word_in_bl',\n",
       "       '3th_word_in_bl', '4th_word_in_bl', '5th_word_in_bl', '6th_word_in_bl',\n",
       "       '7th_word_in_bl', '8th_word_in_bl', '9th_word_in_bl', 'brand_encoded',\n",
       "       'flag_attr_has_material', 'flag_attr_has_color', 'flag_has_attr'],\n",
       "      dtype='object')"
      ]
     },
     "execution_count": 65,
     "metadata": {},
     "output_type": "execute_result"
    }
   ],
   "source": [
    "export_df.columns"
   ]
  },
  {
   "cell_type": "code",
   "execution_count": 58,
   "metadata": {
    "collapsed": true
   },
   "outputs": [],
   "source": [
    "export_df.to_csv('feats.csv')"
   ]
  },
  {
   "cell_type": "code",
   "execution_count": null,
   "metadata": {
    "collapsed": true
   },
   "outputs": [],
   "source": []
  },
  {
   "cell_type": "code",
   "execution_count": null,
   "metadata": {
    "collapsed": true
   },
   "outputs": [],
   "source": []
  }
 ],
 "metadata": {
  "kernelspec": {
   "display_name": "Python 3",
   "language": "python",
   "name": "python3"
  },
  "language_info": {
   "codemirror_mode": {
    "name": "ipython",
    "version": 3
   },
   "file_extension": ".py",
   "mimetype": "text/x-python",
   "name": "python",
   "nbconvert_exporter": "python",
   "pygments_lexer": "ipython3",
   "version": "3.6.0"
  }
 },
 "nbformat": 4,
 "nbformat_minor": 2
}
